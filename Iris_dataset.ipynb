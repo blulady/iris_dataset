{
 "cells": [
  {
   "cell_type": "markdown",
   "id": "b77565c8",
   "metadata": {},
   "source": [
    "#SAMPLE HEADLINE\n"
   ]
  },
  {
   "cell_type": "markdown",
   "id": "e7a9501c",
   "metadata": {},
   "source": [
    "# This is a blockquote with two paragraphs. Lorem ipsum dolor sit amet,\n",
    "consectetuer adipiscing elit. Aliquam hendrerit mi posuere lectus.\n",
    "Vestibulum enim wisi, viverra nec, fringilla in, laoreet vitae, risus.\n",
    "> Donec sit amet nisl. Aliquam semper ipsum sit amet velit. Suspendisse\n",
    "id sem consectetuer libero luctus adipiscing.\n",
    ">\n",
    "> This is the first level of quoting.\n",
    ">\n",
    "> > This is nested blockquote.\n",
    ">\n",
    "> Back to the first level.\n",
    "Blockquotes can contain other Mark\n"
   ]
  },
  {
   "cell_type": "code",
   "execution_count": 7,
   "id": "4c6d890c",
   "metadata": {},
   "outputs": [
    {
     "ename": "SyntaxError",
     "evalue": "invalid syntax (<ipython-input-7-583d17dbda3a>, line 1)",
     "output_type": "error",
     "traceback": [
      "\u001b[1;36m  File \u001b[1;32m\"<ipython-input-7-583d17dbda3a>\"\u001b[1;36m, line \u001b[1;32m1\u001b[0m\n\u001b[1;33m    $lsmagic\u001b[0m\n\u001b[1;37m    ^\u001b[0m\n\u001b[1;31mSyntaxError\u001b[0m\u001b[1;31m:\u001b[0m invalid syntax\n"
     ]
    }
   ],
   "source": [
    "$lsmagic"
   ]
  },
  {
   "cell_type": "code",
   "execution_count": 8,
   "id": "705c3dcc",
   "metadata": {},
   "outputs": [
    {
     "name": "stdout",
     "output_type": "stream",
     "text": [
      "0\n",
      "1\n",
      "2\n",
      "3\n",
      "4\n",
      "5\n",
      "6\n",
      "7\n"
     ]
    }
   ],
   "source": [
    "import time, sys\n",
    "for i in range(8):\n",
    "    print(i)\n",
    "    time.sleep(0.5)"
   ]
  },
  {
   "cell_type": "markdown",
   "id": "61c2a171",
   "metadata": {},
   "source": [
    "\\*literal astrisks\\*"
   ]
  },
  {
   "cell_type": "markdown",
   "id": "9309f0b7",
   "metadata": {},
   "source": [
    "*literal astrisks*"
   ]
  },
  {
   "cell_type": "markdown",
   "id": "81a8219b",
   "metadata": {},
   "source": [
    "\\\\$"
   ]
  },
  {
   "cell_type": "markdown",
   "id": "9461fdd0",
   "metadata": {},
   "source": [
    "# Heading 1\n",
    "## Heading 2\n",
    "### Heading 2.1\n",
    "#### Heading 2.2"
   ]
  },
  {
   "cell_type": "markdown",
   "id": "a816b346",
   "metadata": {},
   "source": [
    "$e^{i\\pi} + 1 = 0$"
   ]
  },
  {
   "cell_type": "markdown",
   "id": "ee019c5d",
   "metadata": {},
   "source": [
    "\\begin{equation}\n",
    "e^x=\\sum_{i=0}^\\infty \\frac{1}{i!}x^i\n",
    "\\end{equation}\n"
   ]
  },
  {
   "cell_type": "code",
   "execution_count": 12,
   "id": "4857b575",
   "metadata": {},
   "outputs": [],
   "source": [
    "import numpy as np\n"
   ]
  },
  {
   "cell_type": "code",
   "execution_count": 14,
   "id": "ffb3452f",
   "metadata": {},
   "outputs": [],
   "source": [
    "import matplotlib.pyplot as plt\n"
   ]
  },
  {
   "cell_type": "code",
   "execution_count": 20,
   "id": "d53bb1d7",
   "metadata": {},
   "outputs": [
    {
     "data": {
      "image/png": "[encoded data removed]",
      "text/plain": [
       "<Figure size 432x288 with 1 Axes>"
      ]
     },
     "metadata": {
      "needs_background": "light"
     },
     "output_type": "display_data"
    }
   ],
   "source": [
    "N = 50\n",
    "x = np.random.rand(N)\n",
    "y = np.random.rand(N)\n",
    "colors = np.random.rand(N)\n",
    "area = np.pi * (15 * np.random.rand(N))**2\n",
    "plt.scatter(x, y, s=area, c=colors, alpha=0.5)\n",
    "plt.show()"
   ]
  },
  {
   "cell_type": "code",
   "execution_count": 21,
   "id": "f6fe86c0",
   "metadata": {},
   "outputs": [
    {
     "ename": "ModuleNotFoundError",
     "evalue": "No module named 'plotly'",
     "output_type": "error",
     "traceback": [
      "\u001b[1;31m-------------------------------------------------------------------------\u001b[0m",
      "\u001b[1;31mModuleNotFoundError\u001b[0m                     Traceback (most recent call last)",
      "\u001b[1;32m<ipython-input-21-6361d2547ebc>\u001b[0m in \u001b[0;36m<module>\u001b[1;34m\u001b[0m\n\u001b[1;32m----> 1\u001b[1;33m \u001b[1;32mimport\u001b[0m \u001b[0mplotly\u001b[0m\u001b[1;33m\u001b[0m\u001b[1;33m\u001b[0m\u001b[0m\n\u001b[0m",
      "\u001b[1;31mModuleNotFoundError\u001b[0m: No module named 'plotly'"
     ]
    }
   ],
   "source": [
    "import plotly\n"
   ]
  },
  {
   "cell_type": "code",
   "execution_count": 25,
   "id": "0a73e632",
   "metadata": {},
   "outputs": [],
   "source": [
    "import pandas as pd"
   ]
  },
  {
   "cell_type": "code",
   "execution_count": 26,
   "id": "1981705f",
   "metadata": {},
   "outputs": [],
   "source": [
    "import numpy as np"
   ]
  },
  {
   "cell_type": "code",
   "execution_count": 27,
   "id": "22daf1a1",
   "metadata": {},
   "outputs": [],
   "source": [
    "df = pd.DataFrame(np.random.randn(10,5))"
   ]
  },
  {
   "cell_type": "code",
   "execution_count": 28,
   "id": "ce01e0a9",
   "metadata": {},
   "outputs": [
    {
     "data": {
      "text/html": [
       "<div>\n",
       "<style scoped>\n",
       "    .dataframe tbody tr th:only-of-type {\n",
       "        vertical-align: middle;\n",
       "    }\n",
       "\n",
       "    .dataframe tbody tr th {\n",
       "        vertical-align: top;\n",
       "    }\n",
       "\n",
       "    .dataframe thead th {\n",
       "        text-align: right;\n",
       "    }\n",
       "</style>\n",
       "<table border=\"1\" class=\"dataframe\">\n",
       "  <thead>\n",
       "    <tr style=\"text-align: right;\">\n",
       "      <th></th>\n",
       "      <th>0</th>\n",
       "      <th>1</th>\n",
       "      <th>2</th>\n",
       "      <th>3</th>\n",
       "      <th>4</th>\n",
       "    </tr>\n",
       "  </thead>\n",
       "  <tbody>\n",
       "    <tr>\n",
       "      <th>0</th>\n",
       "      <td>0.991599</td>\n",
       "      <td>-0.751278</td>\n",
       "      <td>-0.024784</td>\n",
       "      <td>1.221155</td>\n",
       "      <td>-0.306274</td>\n",
       "    </tr>\n",
       "    <tr>\n",
       "      <th>1</th>\n",
       "      <td>-0.098724</td>\n",
       "      <td>-0.849000</td>\n",
       "      <td>0.526548</td>\n",
       "      <td>-0.838975</td>\n",
       "      <td>0.089883</td>\n",
       "    </tr>\n",
       "    <tr>\n",
       "      <th>2</th>\n",
       "      <td>0.196502</td>\n",
       "      <td>0.584086</td>\n",
       "      <td>0.346946</td>\n",
       "      <td>0.389862</td>\n",
       "      <td>-0.633555</td>\n",
       "    </tr>\n",
       "    <tr>\n",
       "      <th>3</th>\n",
       "      <td>-0.418220</td>\n",
       "      <td>-1.771115</td>\n",
       "      <td>-1.292447</td>\n",
       "      <td>0.029908</td>\n",
       "      <td>0.837276</td>\n",
       "    </tr>\n",
       "    <tr>\n",
       "      <th>4</th>\n",
       "      <td>-0.182111</td>\n",
       "      <td>1.850985</td>\n",
       "      <td>0.530096</td>\n",
       "      <td>0.661761</td>\n",
       "      <td>1.095060</td>\n",
       "    </tr>\n",
       "    <tr>\n",
       "      <th>5</th>\n",
       "      <td>0.166142</td>\n",
       "      <td>0.962933</td>\n",
       "      <td>0.555959</td>\n",
       "      <td>-1.105764</td>\n",
       "      <td>0.535064</td>\n",
       "    </tr>\n",
       "    <tr>\n",
       "      <th>6</th>\n",
       "      <td>1.039975</td>\n",
       "      <td>0.226400</td>\n",
       "      <td>-0.367575</td>\n",
       "      <td>-0.408375</td>\n",
       "      <td>0.748642</td>\n",
       "    </tr>\n",
       "    <tr>\n",
       "      <th>7</th>\n",
       "      <td>-0.501006</td>\n",
       "      <td>0.202132</td>\n",
       "      <td>-1.451509</td>\n",
       "      <td>-0.244862</td>\n",
       "      <td>0.748479</td>\n",
       "    </tr>\n",
       "    <tr>\n",
       "      <th>8</th>\n",
       "      <td>0.209230</td>\n",
       "      <td>0.976943</td>\n",
       "      <td>-1.833254</td>\n",
       "      <td>-0.658797</td>\n",
       "      <td>-0.616527</td>\n",
       "    </tr>\n",
       "    <tr>\n",
       "      <th>9</th>\n",
       "      <td>0.527429</td>\n",
       "      <td>0.981666</td>\n",
       "      <td>-0.633835</td>\n",
       "      <td>-1.423071</td>\n",
       "      <td>-0.337938</td>\n",
       "    </tr>\n",
       "  </tbody>\n",
       "</table>\n",
       "</div>"
      ],
      "text/plain": [
       "          0         1         2         3         4\n",
       "0  0.991599 -0.751278 -0.024784  1.221155 -0.306274\n",
       "1 -0.098724 -0.849000  0.526548 -0.838975  0.089883\n",
       "2  0.196502  0.584086  0.346946  0.389862 -0.633555\n",
       "3 -0.418220 -1.771115 -1.292447  0.029908  0.837276\n",
       "4 -0.182111  1.850985  0.530096  0.661761  1.095060\n",
       "5  0.166142  0.962933  0.555959 -1.105764  0.535064\n",
       "6  1.039975  0.226400 -0.367575 -0.408375  0.748642\n",
       "7 -0.501006  0.202132 -1.451509 -0.244862  0.748479\n",
       "8  0.209230  0.976943 -1.833254 -0.658797 -0.616527\n",
       "9  0.527429  0.981666 -0.633835 -1.423071 -0.337938"
      ]
     },
     "execution_count": 28,
     "metadata": {},
     "output_type": "execute_result"
    }
   ],
   "source": [
    "df\n"
   ]
  },
  {
   "cell_type": "code",
   "execution_count": 29,
   "id": "fbecf7e5",
   "metadata": {},
   "outputs": [
    {
     "data": {
      "text/html": [
       "<div>\n",
       "<style scoped>\n",
       "    .dataframe tbody tr th:only-of-type {\n",
       "        vertical-align: middle;\n",
       "    }\n",
       "\n",
       "    .dataframe tbody tr th {\n",
       "        vertical-align: top;\n",
       "    }\n",
       "\n",
       "    .dataframe thead th {\n",
       "        text-align: right;\n",
       "    }\n",
       "</style>\n",
       "<table border=\"1\" class=\"dataframe\">\n",
       "  <thead>\n",
       "    <tr style=\"text-align: right;\">\n",
       "      <th></th>\n",
       "      <th>0</th>\n",
       "      <th>1</th>\n",
       "      <th>2</th>\n",
       "      <th>3</th>\n",
       "      <th>4</th>\n",
       "    </tr>\n",
       "  </thead>\n",
       "  <tbody>\n",
       "    <tr>\n",
       "      <th>0</th>\n",
       "      <td>0.991599</td>\n",
       "      <td>-0.751278</td>\n",
       "      <td>-0.024784</td>\n",
       "      <td>1.221155</td>\n",
       "      <td>-0.306274</td>\n",
       "    </tr>\n",
       "    <tr>\n",
       "      <th>1</th>\n",
       "      <td>-0.098724</td>\n",
       "      <td>-0.849000</td>\n",
       "      <td>0.526548</td>\n",
       "      <td>-0.838975</td>\n",
       "      <td>0.089883</td>\n",
       "    </tr>\n",
       "    <tr>\n",
       "      <th>2</th>\n",
       "      <td>0.196502</td>\n",
       "      <td>0.584086</td>\n",
       "      <td>0.346946</td>\n",
       "      <td>0.389862</td>\n",
       "      <td>-0.633555</td>\n",
       "    </tr>\n",
       "    <tr>\n",
       "      <th>3</th>\n",
       "      <td>-0.418220</td>\n",
       "      <td>-1.771115</td>\n",
       "      <td>-1.292447</td>\n",
       "      <td>0.029908</td>\n",
       "      <td>0.837276</td>\n",
       "    </tr>\n",
       "    <tr>\n",
       "      <th>4</th>\n",
       "      <td>-0.182111</td>\n",
       "      <td>1.850985</td>\n",
       "      <td>0.530096</td>\n",
       "      <td>0.661761</td>\n",
       "      <td>1.095060</td>\n",
       "    </tr>\n",
       "  </tbody>\n",
       "</table>\n",
       "</div>"
      ],
      "text/plain": [
       "          0         1         2         3         4\n",
       "0  0.991599 -0.751278 -0.024784  1.221155 -0.306274\n",
       "1 -0.098724 -0.849000  0.526548 -0.838975  0.089883\n",
       "2  0.196502  0.584086  0.346946  0.389862 -0.633555\n",
       "3 -0.418220 -1.771115 -1.292447  0.029908  0.837276\n",
       "4 -0.182111  1.850985  0.530096  0.661761  1.095060"
      ]
     },
     "execution_count": 29,
     "metadata": {},
     "output_type": "execute_result"
    }
   ],
   "source": [
    "\n"
   ]
  },
  {
   "cell_type": "code",
   "execution_count": 30,
   "id": "bfd146eb",
   "metadata": {},
   "outputs": [],
   "source": [
    "import plotly"
   ]
  }
 ],
 "metadata": {
  "kernelspec": {
   "display_name": "Python 3",
   "language": "python",
   "name": "python3"
  },
  "language_info": {
   "codemirror_mode": {
    "name": "ipython",
    "version": 3
   },
   "file_extension": ".py",
   "mimetype": "text/x-python",
   "name": "python",
   "nbconvert_exporter": "python",
   "pygments_lexer": "ipython3",
   "version": "3.8.8"
  }
 },
 "nbformat": 4,
 "nbformat_minor": 5
}
